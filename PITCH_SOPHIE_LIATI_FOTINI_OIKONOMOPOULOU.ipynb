{
 "cells": [
  {
   "cell_type": "markdown",
   "metadata": {},
   "source": [
    "# Data Project Pitch"
   ]
  },
  {
   "cell_type": "markdown",
   "metadata": {},
   "source": [
    "### Σύνοψη "
   ]
  },
  {
   "cell_type": "markdown",
   "metadata": {},
   "source": [
    "Κάθε χρόνο τεράστιος αριθμός τρανς ατόμων ανά τον κόσμο δολοφονείται. Οι δολοφονικές αυτές επιθέσεις ενάντια τρανς ατόμων δεν αποτελούν μεμονωμένα και τυχαία περιστατικά αλλά την εκδήλωση της συστημικής και τρανσφοβικής βίας με την οποία έρχονται αντιμέτωπα καθημερινά αυτά τα άτομα. Αποφασίσαμε να ασχοληθούμε λοιπόν, με τον καταγεγραμμένο αριρθμό διεμφυλικών ανθρώπων που έχουν δολοφονηθεί σε παγκόσμιο επίπεδο τα τελευταία χρόνια, συμπεριλαμβάνομένων συγκεκριμέων στοιχείων για αυτούς, όπως ο τόπος, η ηλικία, το επάγγελμα, η χώρα, ο τόπος, ο χρόνος και ο τρόπος δολοφονίας."
   ]
  },
  {
   "cell_type": "markdown",
   "metadata": {},
   "source": [
    "### Έμπνευση"
   ]
  },
  {
   "cell_type": "markdown",
   "metadata": {},
   "source": [
    "- https://www.protagon.gr/epikairotita/ellada/oi-dolofonies-twn-transeksoual-29525000000\n",
    "- https://reports.hrc.org/an-epidemic-of-violence-2022"
   ]
  },
  {
   "cell_type": "markdown",
   "metadata": {},
   "source": [
    "### Περαιτέρω πληροφορίες για το θέμα σας"
   ]
  },
  {
   "cell_type": "markdown",
   "metadata": {},
   "source": [
    "Τίτλος εργασίας: Οι δολοφονίες των transgender.\n",
    "\n",
    "Πηγές δεδομένων: https://transrespect.org/wp-content/uploads/2021/11/TvT_TMM_TDoR2021_Namelist.pdf, https://transrespect.org/en/, https://transrespect.org/en/trans-murder-monitoring/tmm-resources/ -Πιθανή ανασφάλεια το scraping των δεδομένων."
   ]
  },
  {
   "cell_type": "markdown",
   "metadata": {},
   "source": [
    "### Ερευνητικά ερωτήματα"
   ]
  },
  {
   "cell_type": "markdown",
   "metadata": {},
   "source": [
    "1.Τι ποσοστό transgender ατόμων δολοφονείται ετησίως; <br> 2.Ποιά είναι τα κοινά χαρακτηριστικά των θυμάτων; <br> 3.Σε ποιες χώρες και ηπείρους πραγματοποιούνται οι περισσότερες δολοφονίες; <br> 5.Σε ποιες συνθήκες γίνονται οι δολοφονίες;"
   ]
  },
  {
   "cell_type": "markdown",
   "metadata": {},
   "source": [
    "### Προέρευνα/δουλειά που έχετε ήδη κάνει στο πλαίσιο του σχεδιασμού του πρότζεκτ"
   ]
  },
  {
   "cell_type": "markdown",
   "metadata": {},
   "source": [
    "Έχουμε καταγράψει μία λίστα τόσο από άρθρα- λινκς όσο και από έρευνες σχετικά με το θέμα μας, που θα τα χρησιμοποιήσουμε ως δεδομένα. 1.https://transrespect.org/wp-content/uploads/2021/11/TvT_TMM_TDoR2021_Namelist.pdf, 2.https://transrespect.org/en/, 3.https://transrespect.org/en/trans-murder-monitoring/tmm-resources/ 4.https://reports.hrc.org/an-epidemic-of-violence-fatal-violence-against-transgender-and-gender-non-confirming-people-in-the-united-states-in-2021 5.http://www.transgender-association.gr/ <br> <br>\n",
    "\n",
    "https://transrespect.org/en/map/trans-murder-monitoring/"
   ]
  },
  {
   "cell_type": "markdown",
   "metadata": {},
   "source": [
    "## Απαντήστε \"YES\" ή \"NO\" στα παρακάτω ερωτήματα\n",
    "<i>(Στο στάδιο της πρότασης θέματος που βρίσκεστε, το αναμενόμενο είναι YES. Όσα περισσότερα NO, τόσο λιγότερο έχετε προετοιμαστεί και, άρα, χρειάζεται να σχεδιάσετε καλύτερα το πρότζεκτ σας.)</i>"
   ]
  },
  {
   "cell_type": "code",
   "execution_count": 2,
   "metadata": {},
   "outputs": [
    {
     "name": "stdout",
     "output_type": "stream",
     "text": [
      "Έχετε ψάξει για πηγές δεδομένων για το θέμα που θέλετε να κάνετε;YES\n"
     ]
    },
    {
     "data": {
      "text/plain": [
       "'YES'"
      ]
     },
     "execution_count": 2,
     "metadata": {},
     "output_type": "execute_result"
    }
   ],
   "source": [
    "input(\"Έχετε ψάξει για πηγές δεδομένων για το θέμα που θέλετε να κάνετε;\")"
   ]
  },
  {
   "cell_type": "code",
   "execution_count": 3,
   "metadata": {},
   "outputs": [
    {
     "name": "stdout",
     "output_type": "stream",
     "text": [
      "Έχετε βρει δεδομένα/πηγές δεδομένων για το θέμα που θέλετε να κάνετε;YES\n"
     ]
    },
    {
     "data": {
      "text/plain": [
       "'YES'"
      ]
     },
     "execution_count": 3,
     "metadata": {},
     "output_type": "execute_result"
    }
   ],
   "source": [
    "input(\"Έχετε βρει δεδομένα/πηγές δεδομένων για το θέμα που θέλετε να κάνετε;\")"
   ]
  },
  {
   "cell_type": "code",
   "execution_count": 4,
   "metadata": {},
   "outputs": [
    {
     "name": "stdout",
     "output_type": "stream",
     "text": [
      "Έχετε διατυπώσει τα ερευνητικά ερωτήματά σας;YES\n"
     ]
    },
    {
     "data": {
      "text/plain": [
       "'YES'"
      ]
     },
     "execution_count": 4,
     "metadata": {},
     "output_type": "execute_result"
    }
   ],
   "source": [
    "input(\"Έχετε διατυπώσει τα ερευνητικά ερωτήματά σας;\")"
   ]
  },
  {
   "cell_type": "code",
   "execution_count": 5,
   "metadata": {},
   "outputs": [
    {
     "name": "stdout",
     "output_type": "stream",
     "text": [
      "Έχετε σκεφτεί πώς θα αναλύσετε τα δεδομένα σας, για να απαντήσετε τα ερευνητικά ερωτήματά σας;YES and NO\n"
     ]
    },
    {
     "data": {
      "text/plain": [
       "'YES and NO'"
      ]
     },
     "execution_count": 5,
     "metadata": {},
     "output_type": "execute_result"
    }
   ],
   "source": [
    "input(\"Έχετε σκεφτεί πώς θα αναλύσετε τα δεδομένα σας, για να απαντήσετε τα ερευνητικά ερωτήματά σας;\")"
   ]
  },
  {
   "cell_type": "code",
   "execution_count": 6,
   "metadata": {},
   "outputs": [
    {
     "name": "stdout",
     "output_type": "stream",
     "text": [
      "Έχετε αρχίσει να σκέφτεστε πώς θα μπορούσατε να οπτικοποιήσετε τις αναλύσεις σας για το τελικό σας story;NO\n"
     ]
    },
    {
     "data": {
      "text/plain": [
       "'NO'"
      ]
     },
     "execution_count": 6,
     "metadata": {},
     "output_type": "execute_result"
    }
   ],
   "source": [
    "input(\"Έχετε αρχίσει να σκέφτεστε πώς θα μπορούσατε να οπτικοποιήσετε τις αναλύσεις σας για το τελικό σας story;\")"
   ]
  },
  {
   "cell_type": "code",
   "execution_count": null,
   "metadata": {},
   "outputs": [],
   "source": [
    "input(\"Έχετε καταθέσει το pitch σας (το προτεινόμενο θέμα σας) σε ένα notebook με filename PITCH_ΟΝΟΜΑΤΕΠΩΝΥΜΟ1_ΟΝΟΜΑΤΕΠΩΝΥΜΟ2;\")"
   ]
  },
  {
   "cell_type": "markdown",
   "metadata": {},
   "source": [
    "## Feedback!"
   ]
  },
  {
   "attachments": {
    "image.png": {
     "image/png": "[encoded data removed]"
    }
   },
   "cell_type": "markdown",
   "metadata": {},
   "source": [
    "Πολύ ενδιαφέρον θέμα! \n",
    "\n",
    "Για να κάνετε μια αξιόπιστη έρευνα δεδομένων, χρειάζεται: \n",
    "- Να καταλάβετε πλήρως τη μεθοδολογία του ΤΜΜ. \n",
    "- Είναι τα δεδομένα για τις επιμέρους χώρες ασφαλή και συγκρίσιμα; \n",
    "- Υπάρχει περίπτωση διάφορες χώρες να μην καταγράφουν/αναδεικνύουν τα περιστατικά και, άρα, να φαίνονται στο ΤΜΜ ότι δεν έχουν περιστατικά ή έχουν πολύ λίγα; Χρειάζεται να σκεφτείτε πώς θα αντιμετωπίσετε αυτό το πρόβλημα*. Δείτε αν τυχόν υπάρχουν και συμπληρωματικές πηγές δεδομένων. \n",
    "- Σκεφτείτε πιο θα είναι το χρονικό διάστημα μελέτης και συγκεντρώστε στοιχεία για όλα τα έτη ενδιαφέροντος. \n",
    "\n",
    "*Έκανα μια πρόχειρη/διαγώνια ανάλυση στα δεδομένα του 2021 ανά χώρα. Τα αποτελέσματα είναι αυτά: \n",
    "![image.png](attachment:image.png)\n",
    "\n",
    "Αφορούν μόνο 31 χώρες στον πλανήτη. Επίσης, στα αθροιστικά νούμερα των περιστατικών ανά χώρα, διακρίνονται μεγάλες διαφορές. Οφείλονται αυτές μόνο σε πληθυσμιακές διαφορές ή υποδεικνύουν διαφορετικό τρόπο καταγραφής/διαφορετικά επίπεδα ορατότητας/δημοσιότητας των περιστατικών και, άρα, υποκαταγραφές; \n",
    "\n",
    "Για το θέμα σας, δεν θα χρειαστεί scraping από τη συγκεκριμένη πηγή δεδομένων. Μπορείτε να πάρετε τα δεδομένα των πινάκων που βρίσκονται μέσα στο pdf με τη χρήση του εργαλείου tabula: http://tabula.ondata.it/\n",
    "\n",
    "Το θέμα σας θα χρειαστεί περαιτέρω δημοσιογραφική πλαισίωση. Προτείνω: \n",
    "- Να ζητήσετε συνέντευξη από το TMM, στην οποία θα σας εξηγήσουν τις μεθοδολογικές/καταγραφικές προκλήσεις και, φυσικά, θα μιλήσετε για ό,τι άλλο κρίνετε σκόπιμο και ενδιαφέρον.\n",
    "- Στα δεδομένα 2021, υπάρχει 1 ελληνική περίπτωση, δηλωμένη με ονοματεπώνυμο. Σκεφτείτε πώς μπορείτε να κάνετε περαιτέρω έρευνα/συνεντεύξεις για να μας εξηγήσετε περαιτέρω τη συγκεκριμένη ιστορία, καθώς το θέμα σας γίνεται στην Ελλάδα και, άρα, υπάρχει και τοπικό ενδιαφέρον"
   ]
  },
  {
   "cell_type": "code",
   "execution_count": null,
   "metadata": {},
   "outputs": [],
   "source": []
  }
 ],
 "metadata": {
  "kernelspec": {
   "display_name": "Python 3 (ipykernel)",
   "language": "python",
   "name": "python3"
  },
  "language_info": {
   "codemirror_mode": {
    "name": "ipython",
    "version": 3
   },
   "file_extension": ".py",
   "mimetype": "text/x-python",
   "name": "python",
   "nbconvert_exporter": "python",
   "pygments_lexer": "ipython3",
   "version": "3.11.0"
  }
 },
 "nbformat": 4,
 "nbformat_minor": 2
}
